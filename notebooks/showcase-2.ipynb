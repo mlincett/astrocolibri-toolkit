{
 "cells": [
  {
   "cell_type": "code",
   "execution_count": 1,
   "metadata": {},
   "outputs": [],
   "source": [
    "from astrocolibri_tools.api import ColibriAPI"
   ]
  },
  {
   "cell_type": "code",
   "execution_count": 2,
   "metadata": {},
   "outputs": [],
   "source": [
    "api = ColibriAPI()"
   ]
  },
  {
   "cell_type": "code",
   "execution_count": 3,
   "metadata": {},
   "outputs": [],
   "source": [
    "# TXS 0506+056 coordinates\n",
    "ra, dec = 77.358, +5.69"
   ]
  },
  {
   "cell_type": "code",
   "execution_count": 4,
   "metadata": {},
   "outputs": [
    {
     "name": "stdout",
     "output_type": "stream",
     "text": [
      "https://astro-colibri.herokuapp.com//cone_search?cone=%5B77.358%2C5.69%2C0.5%5D\n"
     ]
    }
   ],
   "source": [
    "r = api.cone_search(ra, dec, 0.5, \"\", \"\")"
   ]
  },
  {
   "cell_type": "code",
   "execution_count": 5,
   "metadata": {},
   "outputs": [
    {
     "ename": "ValueError",
     "evalue": "JSON data had unexpected key(s): test, sources, Xsources, voevents, data_column_names",
     "output_type": "error",
     "traceback": [
      "\u001b[0;31m---------------------------------------------------------------------------\u001b[0m",
      "\u001b[0;31mValueError\u001b[0m                                Traceback (most recent call last)",
      "Cell \u001b[0;32mIn [5], line 1\u001b[0m\n\u001b[0;32m----> 1\u001b[0m df \u001b[38;5;241m=\u001b[39m r\u001b[38;5;241m.\u001b[39mto_pandas()\n",
      "File \u001b[0;32m~/Work/colibri/astrocolibri-tools/astrocolibri_tools/api.py:24\u001b[0m, in \u001b[0;36mSearchResult.to_pandas\u001b[0;34m(self)\u001b[0m\n\u001b[1;32m     23\u001b[0m \u001b[39mdef\u001b[39;00m \u001b[39mto_pandas\u001b[39m(\u001b[39mself\u001b[39m):\n\u001b[0;32m---> 24\u001b[0m     df \u001b[39m=\u001b[39m pd\u001b[39m.\u001b[39;49mread_json(\u001b[39mself\u001b[39;49m\u001b[39m.\u001b[39;49mdata, orient\u001b[39m=\u001b[39;49m\u001b[39m\"\u001b[39;49m\u001b[39msplit\u001b[39;49m\u001b[39m\"\u001b[39;49m)\n\u001b[1;32m     25\u001b[0m     \u001b[39mreturn\u001b[39;00m df\n",
      "File \u001b[0;32m~/software/miniconda3/envs/colibri/lib/python3.10/site-packages/pandas/util/_decorators.py:211\u001b[0m, in \u001b[0;36mdeprecate_kwarg.<locals>._deprecate_kwarg.<locals>.wrapper\u001b[0;34m(*args, **kwargs)\u001b[0m\n\u001b[1;32m    209\u001b[0m     \u001b[39melse\u001b[39;00m:\n\u001b[1;32m    210\u001b[0m         kwargs[new_arg_name] \u001b[39m=\u001b[39m new_arg_value\n\u001b[0;32m--> 211\u001b[0m \u001b[39mreturn\u001b[39;00m func(\u001b[39m*\u001b[39;49margs, \u001b[39m*\u001b[39;49m\u001b[39m*\u001b[39;49mkwargs)\n",
      "File \u001b[0;32m~/software/miniconda3/envs/colibri/lib/python3.10/site-packages/pandas/util/_decorators.py:317\u001b[0m, in \u001b[0;36mdeprecate_nonkeyword_arguments.<locals>.decorate.<locals>.wrapper\u001b[0;34m(*args, **kwargs)\u001b[0m\n\u001b[1;32m    311\u001b[0m \u001b[39mif\u001b[39;00m \u001b[39mlen\u001b[39m(args) \u001b[39m>\u001b[39m num_allow_args:\n\u001b[1;32m    312\u001b[0m     warnings\u001b[39m.\u001b[39mwarn(\n\u001b[1;32m    313\u001b[0m         msg\u001b[39m.\u001b[39mformat(arguments\u001b[39m=\u001b[39marguments),\n\u001b[1;32m    314\u001b[0m         \u001b[39mFutureWarning\u001b[39;00m,\n\u001b[1;32m    315\u001b[0m         stacklevel\u001b[39m=\u001b[39mfind_stack_level(inspect\u001b[39m.\u001b[39mcurrentframe()),\n\u001b[1;32m    316\u001b[0m     )\n\u001b[0;32m--> 317\u001b[0m \u001b[39mreturn\u001b[39;00m func(\u001b[39m*\u001b[39;49margs, \u001b[39m*\u001b[39;49m\u001b[39m*\u001b[39;49mkwargs)\n",
      "File \u001b[0;32m~/software/miniconda3/envs/colibri/lib/python3.10/site-packages/pandas/io/json/_json.py:757\u001b[0m, in \u001b[0;36mread_json\u001b[0;34m(path_or_buf, orient, typ, dtype, convert_axes, convert_dates, keep_default_dates, numpy, precise_float, date_unit, encoding, encoding_errors, lines, chunksize, compression, nrows, storage_options)\u001b[0m\n\u001b[1;32m    754\u001b[0m     \u001b[39mreturn\u001b[39;00m json_reader\n\u001b[1;32m    756\u001b[0m \u001b[39mwith\u001b[39;00m json_reader:\n\u001b[0;32m--> 757\u001b[0m     \u001b[39mreturn\u001b[39;00m json_reader\u001b[39m.\u001b[39;49mread()\n",
      "File \u001b[0;32m~/software/miniconda3/envs/colibri/lib/python3.10/site-packages/pandas/io/json/_json.py:915\u001b[0m, in \u001b[0;36mJsonReader.read\u001b[0;34m(self)\u001b[0m\n\u001b[1;32m    913\u001b[0m         obj \u001b[39m=\u001b[39m \u001b[39mself\u001b[39m\u001b[39m.\u001b[39m_get_object_parser(\u001b[39mself\u001b[39m\u001b[39m.\u001b[39m_combine_lines(data_lines))\n\u001b[1;32m    914\u001b[0m \u001b[39melse\u001b[39;00m:\n\u001b[0;32m--> 915\u001b[0m     obj \u001b[39m=\u001b[39m \u001b[39mself\u001b[39;49m\u001b[39m.\u001b[39;49m_get_object_parser(\u001b[39mself\u001b[39;49m\u001b[39m.\u001b[39;49mdata)\n\u001b[1;32m    916\u001b[0m \u001b[39mself\u001b[39m\u001b[39m.\u001b[39mclose()\n\u001b[1;32m    917\u001b[0m \u001b[39mreturn\u001b[39;00m obj\n",
      "File \u001b[0;32m~/software/miniconda3/envs/colibri/lib/python3.10/site-packages/pandas/io/json/_json.py:937\u001b[0m, in \u001b[0;36mJsonReader._get_object_parser\u001b[0;34m(self, json)\u001b[0m\n\u001b[1;32m    935\u001b[0m obj \u001b[39m=\u001b[39m \u001b[39mNone\u001b[39;00m\n\u001b[1;32m    936\u001b[0m \u001b[39mif\u001b[39;00m typ \u001b[39m==\u001b[39m \u001b[39m\"\u001b[39m\u001b[39mframe\u001b[39m\u001b[39m\"\u001b[39m:\n\u001b[0;32m--> 937\u001b[0m     obj \u001b[39m=\u001b[39m FrameParser(json, \u001b[39m*\u001b[39;49m\u001b[39m*\u001b[39;49mkwargs)\u001b[39m.\u001b[39;49mparse()\n\u001b[1;32m    939\u001b[0m \u001b[39mif\u001b[39;00m typ \u001b[39m==\u001b[39m \u001b[39m\"\u001b[39m\u001b[39mseries\u001b[39m\u001b[39m\"\u001b[39m \u001b[39mor\u001b[39;00m obj \u001b[39mis\u001b[39;00m \u001b[39mNone\u001b[39;00m:\n\u001b[1;32m    940\u001b[0m     \u001b[39mif\u001b[39;00m \u001b[39mnot\u001b[39;00m \u001b[39misinstance\u001b[39m(dtype, \u001b[39mbool\u001b[39m):\n",
      "File \u001b[0;32m~/software/miniconda3/envs/colibri/lib/python3.10/site-packages/pandas/io/json/_json.py:1064\u001b[0m, in \u001b[0;36mParser.parse\u001b[0;34m(self)\u001b[0m\n\u001b[1;32m   1062\u001b[0m     \u001b[39mself\u001b[39m\u001b[39m.\u001b[39m_parse_numpy()\n\u001b[1;32m   1063\u001b[0m \u001b[39melse\u001b[39;00m:\n\u001b[0;32m-> 1064\u001b[0m     \u001b[39mself\u001b[39;49m\u001b[39m.\u001b[39;49m_parse_no_numpy()\n\u001b[1;32m   1066\u001b[0m \u001b[39mif\u001b[39;00m \u001b[39mself\u001b[39m\u001b[39m.\u001b[39mobj \u001b[39mis\u001b[39;00m \u001b[39mNone\u001b[39;00m:\n\u001b[1;32m   1067\u001b[0m     \u001b[39mreturn\u001b[39;00m \u001b[39mNone\u001b[39;00m\n",
      "File \u001b[0;32m~/software/miniconda3/envs/colibri/lib/python3.10/site-packages/pandas/io/json/_json.py:1328\u001b[0m, in \u001b[0;36mFrameParser._parse_no_numpy\u001b[0;34m(self)\u001b[0m\n\u001b[1;32m   1323\u001b[0m \u001b[39melif\u001b[39;00m orient \u001b[39m==\u001b[39m \u001b[39m\"\u001b[39m\u001b[39msplit\u001b[39m\u001b[39m\"\u001b[39m:\n\u001b[1;32m   1324\u001b[0m     decoded \u001b[39m=\u001b[39m {\n\u001b[1;32m   1325\u001b[0m         \u001b[39mstr\u001b[39m(k): v\n\u001b[1;32m   1326\u001b[0m         \u001b[39mfor\u001b[39;00m k, v \u001b[39min\u001b[39;00m loads(json, precise_float\u001b[39m=\u001b[39m\u001b[39mself\u001b[39m\u001b[39m.\u001b[39mprecise_float)\u001b[39m.\u001b[39mitems()\n\u001b[1;32m   1327\u001b[0m     }\n\u001b[0;32m-> 1328\u001b[0m     \u001b[39mself\u001b[39;49m\u001b[39m.\u001b[39;49mcheck_keys_split(decoded)\n\u001b[1;32m   1329\u001b[0m     \u001b[39mself\u001b[39m\u001b[39m.\u001b[39mobj \u001b[39m=\u001b[39m DataFrame(dtype\u001b[39m=\u001b[39m\u001b[39mNone\u001b[39;00m, \u001b[39m*\u001b[39m\u001b[39m*\u001b[39mdecoded)\n\u001b[1;32m   1330\u001b[0m \u001b[39melif\u001b[39;00m orient \u001b[39m==\u001b[39m \u001b[39m\"\u001b[39m\u001b[39mindex\u001b[39m\u001b[39m\"\u001b[39m:\n",
      "File \u001b[0;32m~/software/miniconda3/envs/colibri/lib/python3.10/site-packages/pandas/io/json/_json.py:1057\u001b[0m, in \u001b[0;36mParser.check_keys_split\u001b[0;34m(self, decoded)\u001b[0m\n\u001b[1;32m   1055\u001b[0m \u001b[39mif\u001b[39;00m bad_keys:\n\u001b[1;32m   1056\u001b[0m     bad_keys_joined \u001b[39m=\u001b[39m \u001b[39m\"\u001b[39m\u001b[39m, \u001b[39m\u001b[39m\"\u001b[39m\u001b[39m.\u001b[39mjoin(bad_keys)\n\u001b[0;32m-> 1057\u001b[0m     \u001b[39mraise\u001b[39;00m \u001b[39mValueError\u001b[39;00m(\u001b[39mf\u001b[39m\u001b[39m\"\u001b[39m\u001b[39mJSON data had unexpected key(s): \u001b[39m\u001b[39m{\u001b[39;00mbad_keys_joined\u001b[39m}\u001b[39;00m\u001b[39m\"\u001b[39m)\n",
      "\u001b[0;31mValueError\u001b[0m: JSON data had unexpected key(s): test, sources, Xsources, voevents, data_column_names"
     ]
    }
   ],
   "source": [
    "df = r.to_pandas()\n"
   ]
  },
  {
   "cell_type": "code",
   "execution_count": null,
   "metadata": {},
   "outputs": [
    {
     "ename": "AttributeError",
     "evalue": "'SearchResult' object has no attribute 'text'",
     "output_type": "error",
     "traceback": [
      "\u001b[0;31m---------------------------------------------------------------------------\u001b[0m",
      "\u001b[0;31mAttributeError\u001b[0m                            Traceback (most recent call last)",
      "Cell \u001b[0;32mIn [10], line 2\u001b[0m\n\u001b[1;32m      1\u001b[0m \u001b[38;5;28;01mimport\u001b[39;00m \u001b[38;5;21;01mpandas\u001b[39;00m \u001b[38;5;28;01mas\u001b[39;00m \u001b[38;5;21;01mpd\u001b[39;00m\n\u001b[0;32m----> 2\u001b[0m df \u001b[38;5;241m=\u001b[39m pd\u001b[38;5;241m.\u001b[39mread_json(r\u001b[38;5;241m.\u001b[39mtext)\n",
      "\u001b[0;31mAttributeError\u001b[0m: 'SearchResult' object has no attribute 'text'"
     ]
    }
   ],
   "source": [
    "#tb = r.to_astropy()"
   ]
  },
  {
   "cell_type": "code",
   "execution_count": null,
   "metadata": {},
   "outputs": [
    {
     "name": "stdout",
     "output_type": "stream",
     "text": [
      "{\"Xsources\":{},\"data_column_names\":[\"source_name\",\"ra\",\"dec\",\"conf_95_major\",\"conf_95_minor\",\"energy_flux100\",\"energy_flux100_err\",\"detection_significance\",\"spectrum_type\",\"assoc_fgl\",\"assoc_fhl\",\"assoc_gam1\",\"assoc_gam2\",\"assoc_gam3\",\"assoc\",\"assoc_tev\",\"tevcat_flag\",\"analysis_flags\",\"pivot_energy\",\"variability_index\",\"frac_variability\",\"frac_variability_error\",\"flux_peak\",\"flux_peak_error\",\"time_peak\",\"time_peak_interval\",\"source_type\",\"assoc_prob_bay\",\"assoc_prob_lr\",\"assoc_4fgl\",\"longterm_lc_url\",\"latest_lc_url\",\"source_class\",\"redshift\",\"date\",\"tevcat_url\",\"simbad_link\"],\"sources\":[{\"analysis_flags\":0.0,\"assoc\":\"TXS 0506+056\",\"assoc_4fgl\":\"4FGLJ0509.4+0542\",\"assoc_fgl\":\"3FGL J0509.4+0541\",\"assoc_fhl\":\"3FHL J0509.4+0542\",\"assoc_gam1\":\"\",\"assoc_gam2\":\"\",\"assoc_gam3\":\"EGR J0509+0550\",\"assoc_prob_bay\":0.999893844127655,\"assoc_prob_lr\":0.9901848435401917,\"assoc_tev\":\"TXS 0506+056\",\"conf_95_major\":0.01209999993443489,\"conf_95_minor\":0.011800000444054604,\"date\":2017.1,\"dec\":5.701000213623047,\"detection_significance\":113.37838745117188,\"energy_flux100\":7.773313936976223e-11,\"energy_flux100_err\":1.8539132902450906e-12,\"flux_peak\":1.977280845721907e-07,\"flux_peak_error\":6.411041475473667e-09,\"frac_variability\":0.6024890542030334,\"frac_variability_error\":0.12942826747894287,\"latest_lc_url\":\"http://lpnhe.in2p3.fr/hess/~jlenain/protected/hess/fermi/FLaapLUC/TXS0506+056_lc.png\",\"longterm_lc_url\":\"http://lpnhe.in2p3.fr/hess/~jlenain/protected/hess/fermi/FLaapLUC/lt_TXS0506+056_lc.png\",\"pivot_energy\":1047.384521484375,\"ra\":77.35900115966797,\"redshift\":0.33649998903274536,\"sep\":0.01,\"simbad_link\":\"http://simbad.u-strasbg.fr/simbad/sim-basic?Ident=TXS%200506%2B056\",\"source_class\":\"Blazar\",\"source_name\":\"4FGL J0509.4+0542\",\"source_type\":\"bll\",\"spectrum_type\":\"LogParabola\",\"tevcat_flag\":\"P\",\"tevcat_url\":\"http://tevcat.uchicago.edu/?mode=1&showsrc=309\",\"time_peak\":539150016.0,\"time_peak_interval\":31560000.0,\"variability_index\":1232.4537353515625}],\"test\":\"ok\",\"voevents\":[]}\n",
      "\n"
     ]
    }
   ],
   "source": []
  }
 ],
 "metadata": {
  "kernelspec": {
   "display_name": "Python 3.10.6 ('colibri')",
   "language": "python",
   "name": "python3"
  },
  "language_info": {
   "codemirror_mode": {
    "name": "ipython",
    "version": 3
   },
   "file_extension": ".py",
   "mimetype": "text/x-python",
   "name": "python",
   "nbconvert_exporter": "python",
   "pygments_lexer": "ipython3",
   "version": "3.10.6"
  },
  "orig_nbformat": 4,
  "vscode": {
   "interpreter": {
    "hash": "ea8bb25c77d20cc416a05c6298426f3762437e92fdd6da9bf2c5e95a3df771ad"
   }
  }
 },
 "nbformat": 4,
 "nbformat_minor": 2
}
